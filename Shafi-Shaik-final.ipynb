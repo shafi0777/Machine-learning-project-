{
 "cells": [
  {
   "cell_type": "code",
   "execution_count": 95,
   "id": "113de0a7-5b16-449f-92b5-ba4b687317ef",
   "metadata": {},
   "outputs": [
    {
     "name": "stdout",
     "output_type": "stream",
     "text": [
      "<class 'pandas.core.frame.DataFrame'>\n",
      "RangeIndex: 900 entries, 0 to 899\n",
      "Data columns (total 8 columns):\n",
      " #   Column           Non-Null Count  Dtype  \n",
      "---  ------           --------------  -----  \n",
      " 0   Area             900 non-null    int64  \n",
      " 1   MajorAxisLength  900 non-null    float64\n",
      " 2   MinorAxisLength  900 non-null    float64\n",
      " 3   Eccentricity     900 non-null    float64\n",
      " 4   ConvexArea       900 non-null    int64  \n",
      " 5   Extent           900 non-null    float64\n",
      " 6   Perimeter        900 non-null    float64\n",
      " 7   Class            900 non-null    object \n",
      "dtypes: float64(5), int64(2), object(1)\n",
      "memory usage: 56.4+ KB\n"
     ]
    }
   ],
   "source": [
    "import os \n",
    "import pandas as pd\n",
    "import seaborn as sns \n",
    "from sklearn.metrics import plot_confusion_matrix\n",
    "from sklearn.tree import DecisionTreeClassifier\n",
    "data=pd.read_excel('Raisin_Dataset.xlsx')\n",
    "data.info()"
   ]
  },
  {
   "cell_type": "markdown",
   "id": "f02917ee-2e03-43d4-ad9e-dd2a62066ba5",
   "metadata": {},
   "source": [
    "# Finding the null values in the dataset"
   ]
  },
  {
   "cell_type": "code",
   "execution_count": 97,
   "id": "d1d102f8-e110-47e3-8dbf-6f3b07cfa5ff",
   "metadata": {},
   "outputs": [
    {
     "data": {
      "text/plain": [
       "Area               0\n",
       "MajorAxisLength    0\n",
       "MinorAxisLength    0\n",
       "Eccentricity       0\n",
       "ConvexArea         0\n",
       "Extent             0\n",
       "Perimeter          0\n",
       "Class              0\n",
       "dtype: int64"
      ]
     },
     "execution_count": 97,
     "metadata": {},
     "output_type": "execute_result"
    }
   ],
   "source": [
    "data.isnull().sum()"
   ]
  },
  {
   "cell_type": "markdown",
   "id": "488988cc-f069-427b-9127-ef5cb54882ae",
   "metadata": {},
   "source": [
    "# Splitting the dataset into X and y varaibles "
   ]
  },
  {
   "cell_type": "code",
   "execution_count": 98,
   "id": "b3b51241-58fc-4786-999c-4d36881288c5",
   "metadata": {},
   "outputs": [],
   "source": [
    "from sklearn.model_selection import train_test_split"
   ]
  },
  {
   "cell_type": "code",
   "execution_count": 99,
   "id": "f839ee29-199e-4da3-acc1-e438182ac491",
   "metadata": {},
   "outputs": [],
   "source": [
    "#Splitting of data into X and y \n",
    "X = data.drop('Class',axis=1)\n",
    "y = data['Class']"
   ]
  },
  {
   "cell_type": "markdown",
   "id": "3b3a49c9-814a-4b43-9f76-0061adc6d044",
   "metadata": {},
   "source": [
    "# Displaying the similar features together "
   ]
  },
  {
   "cell_type": "code",
   "execution_count": 100,
   "id": "bd3961bf-92de-4dfd-8e27-3f7d33c47369",
   "metadata": {},
   "outputs": [
    {
     "data": {
      "text/html": [
       "<div>\n",
       "<style scoped>\n",
       "    .dataframe tbody tr th:only-of-type {\n",
       "        vertical-align: middle;\n",
       "    }\n",
       "\n",
       "    .dataframe tbody tr th {\n",
       "        vertical-align: top;\n",
       "    }\n",
       "\n",
       "    .dataframe thead th {\n",
       "        text-align: right;\n",
       "    }\n",
       "</style>\n",
       "<table border=\"1\" class=\"dataframe\">\n",
       "  <thead>\n",
       "    <tr style=\"text-align: right;\">\n",
       "      <th></th>\n",
       "      <th>MajorAxisLength</th>\n",
       "      <th>MinorAxisLength</th>\n",
       "      <th>0</th>\n",
       "    </tr>\n",
       "  </thead>\n",
       "  <tbody>\n",
       "    <tr>\n",
       "      <th>0</th>\n",
       "      <td>225.629541</td>\n",
       "      <td>144.618672</td>\n",
       "      <td>1</td>\n",
       "    </tr>\n",
       "    <tr>\n",
       "      <th>1</th>\n",
       "      <td>227.293792</td>\n",
       "      <td>191.109038</td>\n",
       "      <td>1</td>\n",
       "    </tr>\n",
       "    <tr>\n",
       "      <th>2</th>\n",
       "      <td>232.427848</td>\n",
       "      <td>208.152006</td>\n",
       "      <td>1</td>\n",
       "    </tr>\n",
       "    <tr>\n",
       "      <th>3</th>\n",
       "      <td>243.038280</td>\n",
       "      <td>210.114057</td>\n",
       "      <td>1</td>\n",
       "    </tr>\n",
       "    <tr>\n",
       "      <th>4</th>\n",
       "      <td>245.401295</td>\n",
       "      <td>150.245582</td>\n",
       "      <td>1</td>\n",
       "    </tr>\n",
       "    <tr>\n",
       "      <th>...</th>\n",
       "      <td>...</td>\n",
       "      <td>...</td>\n",
       "      <td>...</td>\n",
       "    </tr>\n",
       "    <tr>\n",
       "      <th>895</th>\n",
       "      <td>820.724022</td>\n",
       "      <td>352.193680</td>\n",
       "      <td>1</td>\n",
       "    </tr>\n",
       "    <tr>\n",
       "      <th>896</th>\n",
       "      <td>843.956653</td>\n",
       "      <td>323.190569</td>\n",
       "      <td>1</td>\n",
       "    </tr>\n",
       "    <tr>\n",
       "      <th>897</th>\n",
       "      <td>949.662672</td>\n",
       "      <td>293.386698</td>\n",
       "      <td>1</td>\n",
       "    </tr>\n",
       "    <tr>\n",
       "      <th>898</th>\n",
       "      <td>984.045491</td>\n",
       "      <td>367.279532</td>\n",
       "      <td>1</td>\n",
       "    </tr>\n",
       "    <tr>\n",
       "      <th>899</th>\n",
       "      <td>997.291941</td>\n",
       "      <td>271.872395</td>\n",
       "      <td>1</td>\n",
       "    </tr>\n",
       "  </tbody>\n",
       "</table>\n",
       "<p>900 rows × 3 columns</p>\n",
       "</div>"
      ],
      "text/plain": [
       "     MajorAxisLength  MinorAxisLength  0\n",
       "0         225.629541       144.618672  1\n",
       "1         227.293792       191.109038  1\n",
       "2         232.427848       208.152006  1\n",
       "3         243.038280       210.114057  1\n",
       "4         245.401295       150.245582  1\n",
       "..               ...              ... ..\n",
       "895       820.724022       352.193680  1\n",
       "896       843.956653       323.190569  1\n",
       "897       949.662672       293.386698  1\n",
       "898       984.045491       367.279532  1\n",
       "899       997.291941       271.872395  1\n",
       "\n",
       "[900 rows x 3 columns]"
      ]
     },
     "execution_count": 100,
     "metadata": {},
     "output_type": "execute_result"
    }
   ],
   "source": [
    "data.groupby(['MajorAxisLength','MinorAxisLength']).size().reset_index()"
   ]
  },
  {
   "cell_type": "markdown",
   "id": "9d592eb1-e82d-48aa-9d2b-43434b8b6592",
   "metadata": {},
   "source": [
    "#  Plot graph for individual feature to show there distribution "
   ]
  },
  {
   "cell_type": "code",
   "execution_count": 101,
   "id": "1a3695f8-790b-4ecc-8dc1-89c90c69f9bf",
   "metadata": {},
   "outputs": [
    {
     "data": {
      "image/png": "[encoded data removed]",
      "text/plain": [
       "<Figure size 720x720 with 9 Axes>"
      ]
     },
     "metadata": {},
     "output_type": "display_data"
    }
   ],
   "source": [
    "import matplotlib.pyplot as plt\n",
    "data.hist(figsize=(10, 10), bins=10)\n",
    "plt.show()"
   ]
  },
  {
   "cell_type": "markdown",
   "id": "5c1f20d8-458f-43ce-8f81-1465dc4d90af",
   "metadata": {},
   "source": [
    "# Applying standard scaler "
   ]
  },
  {
   "cell_type": "code",
   "execution_count": 102,
   "id": "60b31656-d1bf-403e-984e-0c4cc6dc5e86",
   "metadata": {},
   "outputs": [],
   "source": [
    "from sklearn.preprocessing import StandardScaler\n",
    "\n",
    "X_train, X_test, y_train, y_test = train_test_split(X, y, test_size=0.3, random_state=42)\n",
    "\n",
    "sc = StandardScaler()\n",
    "\n",
    "X_train = sc.fit_transform(X_train)\n",
    "X_test = sc.fit_transform(X_test)"
   ]
  },
  {
   "cell_type": "markdown",
   "id": "21f4bdb7-727e-4d09-b6f7-f45812dc904e",
   "metadata": {},
   "source": [
    "# Logistic regression model "
   ]
  },
  {
   "cell_type": "code",
   "execution_count": 103,
   "id": "6732045f-c2a3-45ac-9e0d-335edd566528",
   "metadata": {},
   "outputs": [],
   "source": [
    "from sklearn.linear_model import LogisticRegression\n",
    "from sklearn.metrics import accuracy_score\n",
    "\n",
    "binary_reg = LogisticRegression(solver=\"newton-cg\",random_state=42)\n",
    "    \n",
    "binary_reg.fit(X_train,y_train)\n",
    "y_pred =binary_reg.predict(X_test)\n",
    "binary_reg_accuracy =accuracy_score(y_test,y_pred)\n",
    "y_lr_train_pred = binary_reg.predict(X_train)\n",
    "y_lr_test_pred = binary_reg.predict(X_test)"
   ]
  },
  {
   "cell_type": "markdown",
   "id": "bd7da1ab-cede-4fe6-ae73-7d8fbc0c8d52",
   "metadata": {},
   "source": [
    "# Logistic regression Accuracy "
   ]
  },
  {
   "cell_type": "code",
   "execution_count": 60,
   "id": "84fa4b37-6fa3-4ee7-b526-e8b470515675",
   "metadata": {},
   "outputs": [
    {
     "name": "stdout",
     "output_type": "stream",
     "text": [
      "accuracy score 0.8518518518518519\n"
     ]
    }
   ],
   "source": [
    "print('accuracy score',binary_reg_accuracy)"
   ]
  },
  {
   "cell_type": "markdown",
   "id": "a76470d8-2f0b-482d-add8-82595ad8b64d",
   "metadata": {},
   "source": [
    "# Confusion matrix for Logistic regression model"
   ]
  },
  {
   "cell_type": "code",
   "execution_count": 106,
   "id": "68c6bdc2-7eca-4b5b-9787-bebdc862a738",
   "metadata": {},
   "outputs": [
    {
     "name": "stderr",
     "output_type": "stream",
     "text": [
      "C:\\Users\\SHAIK SHAFI\\anaconda3\\lib\\site-packages\\sklearn\\utils\\deprecation.py:87: FutureWarning: Function plot_confusion_matrix is deprecated; Function `plot_confusion_matrix` is deprecated in 1.0 and will be removed in 1.2. Use one of the class methods: ConfusionMatrixDisplay.from_predictions or ConfusionMatrixDisplay.from_estimator.\n",
      "  warnings.warn(msg, category=FutureWarning)\n"
     ]
    },
    {
     "data": {
      "image/png": "[encoded data removed]",
      "text/plain": [
       "<Figure size 720x360 with 2 Axes>"
      ]
     },
     "metadata": {},
     "output_type": "display_data"
    }
   ],
   "source": [
    "plot_confusion_matrix(binary_reg, X_test, y_test,cmap='Purples')\n",
    "plt.title('Confusion Matrix', fontsize=14)\n",
    "plt.show()"
   ]
  },
  {
   "cell_type": "markdown",
   "id": "9fd27ff0-5fc0-4058-aeb8-6758fe88abe8",
   "metadata": {},
   "source": [
    "# Ensemble learning using Logistic regression , KNN and SVM models "
   ]
  },
  {
   "cell_type": "code",
   "execution_count": 109,
   "id": "57db9e68-8367-421b-95e2-0d96021638c0",
   "metadata": {},
   "outputs": [],
   "source": [
    "from sklearn.neighbors import KNeighborsClassifier\n",
    "from sklearn.ensemble import VotingClassifier\n",
    "from sklearn.linear_model import LogisticRegression\n",
    "from sklearn.svm import SVC\n",
    "\n",
    "from sklearn.model_selection import train_test_split\n",
    "from sklearn.datasets import make_moons\n",
    "\n",
    "X, y = make_moons(n_samples=500, noise=0.30, random_state=42)\n",
    "X_train, X_test, y_train, y_test = train_test_split(X, y, random_state=42)\n",
    "\n",
    "logistic_classifier = LogisticRegression(solver=\"newton-cg\", random_state=42)\n",
    "knn_classifier = KNeighborsClassifier(n_neighbors=3)\n",
    "svm_classifier = SVC(kernel=\"linear\", random_state=42)\n",
    "\n",
    "voting_classifier = VotingClassifier(\n",
    "    estimators=[('lr', logistic_classifier), ('knn', knn_classifier), ('svc', svm_classifier)],\n",
    "    voting='hard')"
   ]
  },
  {
   "cell_type": "markdown",
   "id": "1c7baf4c-b1c1-44f3-a407-17a2392bd544",
   "metadata": {},
   "source": [
    "# Training the ensemble "
   ]
  },
  {
   "cell_type": "code",
   "execution_count": 63,
   "id": "c7282548-2a84-4046-a259-28b9b0f08124",
   "metadata": {},
   "outputs": [
    {
     "data": {
      "text/plain": [
       "VotingClassifier(estimators=[('lr',\n",
       "                              LogisticRegression(random_state=42,\n",
       "                                                 solver='newton-cg')),\n",
       "                             ('knn', KNeighborsClassifier(n_neighbors=3)),\n",
       "                             ('svc', SVC(kernel='linear', random_state=42))])"
      ]
     },
     "execution_count": 63,
     "metadata": {},
     "output_type": "execute_result"
    }
   ],
   "source": [
    "voting_classifier.fit(X_train, y_train)"
   ]
  },
  {
   "cell_type": "markdown",
   "id": "0e6fef4f-b669-488c-b13d-df66513c7418",
   "metadata": {},
   "source": [
    "# Accuracy for the Ensemble learning "
   ]
  },
  {
   "cell_type": "code",
   "execution_count": 80,
   "id": "a85dd0d5-2853-447b-9964-4c71cb633fa6",
   "metadata": {},
   "outputs": [
    {
     "name": "stdout",
     "output_type": "stream",
     "text": [
      "LogisticRegression 0.85\n",
      "KNeighborsClassifier 0.88\n",
      "SVC 0.855\n",
      "VotingClassifier 0.855\n"
     ]
    }
   ],
   "source": [
    "from sklearn.metrics import accuracy_score\n",
    "\n",
    "for clf in (logistic_classifier, knn_classifier, svm_classifier, voting_classifier):\n",
    "    clf.fit(X_train, y_train)\n",
    "    y_pred = clf.predict(X_test)\n",
    "    print(clf.__class__.__name__, accuracy_score(y_test, y_pred))"
   ]
  },
  {
   "cell_type": "markdown",
   "id": "7e4a1531-18fb-4a9d-861a-043cf3f0f0df",
   "metadata": {},
   "source": [
    "# Bagging in Decision tree Model "
   ]
  },
  {
   "cell_type": "code",
   "execution_count": 65,
   "id": "f9479533-9250-4108-8260-0f65ef390ccf",
   "metadata": {},
   "outputs": [
    {
     "name": "stdout",
     "output_type": "stream",
     "text": [
      "Accuracy score 0.912\n"
     ]
    }
   ],
   "source": [
    "from sklearn.ensemble import BaggingClassifier\n",
    "from sklearn.tree import DecisionTreeClassifier\n",
    "\n",
    "bagging_classifier = BaggingClassifier(\n",
    "    DecisionTreeClassifier(), n_estimators=100,\n",
    "    max_samples=50, bootstrap=True, random_state=42)\n",
    "bagging_classifier.fit(X_train, y_train)\n",
    "y_pred = bagging_classifier.predict(X_test)\n",
    "print('Accuracy score',accuracy_score(y_test, y_pred))"
   ]
  },
  {
   "cell_type": "markdown",
   "id": "1fb0e4b5-e51d-487a-afc3-2965fbd59893",
   "metadata": {},
   "source": [
    "# Confusion matrix for Bagging in Decision tree"
   ]
  },
  {
   "cell_type": "code",
   "execution_count": 110,
   "id": "ae9508d5-50ad-4f9b-a9f9-0299316e109f",
   "metadata": {},
   "outputs": [
    {
     "name": "stderr",
     "output_type": "stream",
     "text": [
      "C:\\Users\\SHAIK SHAFI\\anaconda3\\lib\\site-packages\\sklearn\\utils\\deprecation.py:87: FutureWarning: Function plot_confusion_matrix is deprecated; Function `plot_confusion_matrix` is deprecated in 1.0 and will be removed in 1.2. Use one of the class methods: ConfusionMatrixDisplay.from_predictions or ConfusionMatrixDisplay.from_estimator.\n",
      "  warnings.warn(msg, category=FutureWarning)\n"
     ]
    },
    {
     "data": {
      "image/png": "[encoded data removed]",
      "text/plain": [
       "<Figure size 720x360 with 2 Axes>"
      ]
     },
     "metadata": {},
     "output_type": "display_data"
    }
   ],
   "source": [
    "plot_confusion_matrix(bagging_classifier, X_test, y_test,cmap='Purples')\n",
    "plt.title('Confusion Matrix', fontsize=14)\n",
    "plt.show()"
   ]
  },
  {
   "cell_type": "markdown",
   "id": "ac04dcea-a042-41e2-ac89-a960f1435b59",
   "metadata": {},
   "source": [
    "# SVM model "
   ]
  },
  {
   "cell_type": "code",
   "execution_count": 67,
   "id": "c14b89d7-e42f-404d-8626-d1e0795d3569",
   "metadata": {},
   "outputs": [],
   "source": [
    "from sklearn.svm import SVC\n",
    "from sklearn.metrics import accuracy_score\n",
    "\n",
    "svm =SVC(kernel='rbf',random_state=42)\n",
    "svm.fit(X_train,y_train)\n",
    "y_pred = svm.predict(X_test)\n",
    "svm_accuracy =accuracy_score(y_test,y_pred)"
   ]
  },
  {
   "cell_type": "markdown",
   "id": "3aafc77b-6627-497f-b9fa-a74489c934de",
   "metadata": {},
   "source": [
    "# Accuracy for SVM "
   ]
  },
  {
   "cell_type": "code",
   "execution_count": 76,
   "id": "dc7c8858-1512-418b-b619-0e81c3d43f66",
   "metadata": {},
   "outputs": [
    {
     "name": "stdout",
     "output_type": "stream",
     "text": [
      "Accuracy score is  0.896\n"
     ]
    }
   ],
   "source": [
    "print('Accuracy score is ',svm_accuracy)"
   ]
  },
  {
   "cell_type": "markdown",
   "id": "06033c74-2bca-4bf5-ba6f-ebe0111edec0",
   "metadata": {},
   "source": [
    "# Confusion matrix for SVM model"
   ]
  },
  {
   "cell_type": "code",
   "execution_count": 71,
   "id": "647ef3f6-56e4-4ddd-bf81-8a6ec4f178d6",
   "metadata": {},
   "outputs": [
    {
     "name": "stderr",
     "output_type": "stream",
     "text": [
      "C:\\Users\\SHAIK SHAFI\\anaconda3\\lib\\site-packages\\sklearn\\utils\\deprecation.py:87: FutureWarning: Function plot_confusion_matrix is deprecated; Function `plot_confusion_matrix` is deprecated in 1.0 and will be removed in 1.2. Use one of the class methods: ConfusionMatrixDisplay.from_predictions or ConfusionMatrixDisplay.from_estimator.\n",
      "  warnings.warn(msg, category=FutureWarning)\n"
     ]
    },
    {
     "data": {
      "image/png": "[encoded data removed]",
      "text/plain": [
       "<Figure size 432x288 with 2 Axes>"
      ]
     },
     "metadata": {
      "needs_background": "light"
     },
     "output_type": "display_data"
    }
   ],
   "source": [
    "plot_confusion_matrix(svm, X_test, y_test,cmap='inferno')\n",
    "plt.title('Confusion Matrix', fontsize=14)\n",
    "plt.show()"
   ]
  },
  {
   "cell_type": "markdown",
   "id": "b4d7b892-aee1-4ec0-a30e-2b5b07ba0fe0",
   "metadata": {},
   "source": [
    "# KNN Model"
   ]
  },
  {
   "cell_type": "code",
   "execution_count": 72,
   "id": "b63948c5-d4f4-4bdf-807e-cb0e1cff1ba3",
   "metadata": {},
   "outputs": [],
   "source": [
    "from sklearn.neighbors import KNeighborsClassifier\n",
    "\n",
    "knn =KNeighborsClassifier(n_neighbors=9).fit(X_train, y_train)\n",
    "y_pred = knn.predict(X_test)\n",
    "knn_accuracy =accuracy_score(y_test, y_pred)\n",
    "y_knn_train_pred = knn.predict(X_train)\n",
    "y_knn_test_pred = knn.predict(X_test)"
   ]
  },
  {
   "cell_type": "markdown",
   "id": "2eec5a98-a228-4d86-b173-c60c4d794c10",
   "metadata": {},
   "source": [
    "# Accuracy for KNN model "
   ]
  },
  {
   "cell_type": "code",
   "execution_count": 73,
   "id": "d6b87398-f232-413e-b592-41a20336fd62",
   "metadata": {},
   "outputs": [
    {
     "name": "stdout",
     "output_type": "stream",
     "text": [
      "accuracy 0.888\n"
     ]
    }
   ],
   "source": [
    "print('accuracy',knn_accuracy)"
   ]
  },
  {
   "cell_type": "markdown",
   "id": "ef34f7b4-29af-4bad-ae51-32989c7b4f66",
   "metadata": {},
   "source": [
    "# Confusion matrix for KNN"
   ]
  },
  {
   "cell_type": "code",
   "execution_count": 24,
   "id": "54105cbf-1839-4dd6-8dab-6ed01c7bf43a",
   "metadata": {},
   "outputs": [
    {
     "name": "stderr",
     "output_type": "stream",
     "text": [
      "C:\\Users\\SHAIK SHAFI\\anaconda3\\lib\\site-packages\\sklearn\\utils\\deprecation.py:87: FutureWarning: Function plot_confusion_matrix is deprecated; Function `plot_confusion_matrix` is deprecated in 1.0 and will be removed in 1.2. Use one of the class methods: ConfusionMatrixDisplay.from_predictions or ConfusionMatrixDisplay.from_estimator.\n",
      "  warnings.warn(msg, category=FutureWarning)\n"
     ]
    },
    {
     "data": {
      "image/png": "[encoded data removed]",
      "text/plain": [
       "<Figure size 432x288 with 2 Axes>"
      ]
     },
     "metadata": {
      "needs_background": "light"
     },
     "output_type": "display_data"
    }
   ],
   "source": [
    "plot_confusion_matrix(knn, X_test, y_test,cmap='cividis')\n",
    "plt.title('Confusion Matrix', fontsize=14)\n",
    "plt.show()"
   ]
  },
  {
   "cell_type": "markdown",
   "id": "51a320f9-442b-480d-9cf5-bf2abb4da507",
   "metadata": {},
   "source": [
    "# Decision Tree model"
   ]
  },
  {
   "cell_type": "code",
   "execution_count": 77,
   "id": "598fcf77-85be-467c-b934-54977e74446d",
   "metadata": {},
   "outputs": [
    {
     "name": "stdout",
     "output_type": "stream",
     "text": [
      "accuracy 0.875\n",
      "microf1 0.875\n",
      "macrof1 0.8749968749218731\n"
     ]
    }
   ],
   "source": [
    "from sklearn.metrics import accuracy_score\n",
    "from sklearn.metrics import f1_score\n",
    "X_train, X_test, y_train, y_test = train_test_split(X, y, test_size=0.40)\n",
    "\n",
    "binary_classification_dt =DecisionTreeClassifier(max_depth=4,random_state=42,criterion='gini')\n",
    "binary_classification_dt.fit(X_train, y_train)\n",
    "  \n",
    "y_pred =binary_classification_dt.predict(X_test)\n",
    "    \n",
    "binary_classification_dt =accuracy_score(y_test, y_pred)\n",
    "\n",
    "binary_classification_dt_microf1 =f1_score(y_test, y_pred, average='micro')\n",
    "binary_classification_dt_macrof1 =f1_score(y_test, y_pred, average='macro') \n",
    "\n",
    "print('microf1',binary_classification_dt_microf1)\n",
    "print('macrof1',binary_classification_dt_macrof1)"
   ]
  },
  {
   "cell_type": "markdown",
   "id": "86902e6a-8535-4e3c-9ca8-14987b573d90",
   "metadata": {},
   "source": [
    "# Accuracy for the Decision tree"
   ]
  },
  {
   "cell_type": "code",
   "execution_count": 78,
   "id": "1b5738cb-3f10-4f73-90e0-a8b71de96d86",
   "metadata": {},
   "outputs": [
    {
     "name": "stdout",
     "output_type": "stream",
     "text": [
      "accuracy 0.875\n"
     ]
    }
   ],
   "source": [
    "print('accuracy',binary_classification_dt)"
   ]
  },
  {
   "cell_type": "markdown",
   "id": "5605960f-5c34-453e-9836-18876be86083",
   "metadata": {},
   "source": [
    "# Multilayer perceptron in Neural networks "
   ]
  },
  {
   "cell_type": "code",
   "execution_count": 26,
   "id": "41ba9301-29f6-40b6-9cfc-f3c00eb5b079",
   "metadata": {},
   "outputs": [],
   "source": [
    "from tensorflow.keras.models import Sequential\n",
    "from tensorflow.keras.layers import Dense\n",
    "mlp = Sequential([\n",
    "        \n",
    "      # dense layer 1\n",
    "    Dense(256, activation='relu'),  \n",
    "    \n",
    "    # dense layer 2\n",
    "    Dense(128, activation='relu'), \n",
    "    \n",
    "     # dense layer 3\n",
    "    Dense(128, activation='relu'), \n",
    "    \n",
    "     # dense layer 4\n",
    "    Dense(128, activation='relu'), \n",
    "    \n",
    "      # output layer\n",
    "    Dense(10, activation='sigmoid'),  \n",
    "])"
   ]
  },
  {
   "cell_type": "code",
   "execution_count": 35,
   "id": "4761bd3a-f6c2-48c7-b5cf-d1546bb47ae5",
   "metadata": {},
   "outputs": [],
   "source": [
    "mlp.compile(optimizer='adam',\n",
    "      loss='sparse_categorical_crossentropy',\n",
    "      metrics=['accuracy'])"
   ]
  },
  {
   "cell_type": "markdown",
   "id": "3963d4ff-b640-4c5c-a9ab-7a703171c7ff",
   "metadata": {},
   "source": [
    "# Accuracy for MLP"
   ]
  },
  {
   "cell_type": "code",
   "execution_count": 36,
   "id": "9246e604-fda0-4887-810b-9406aa966d91",
   "metadata": {},
   "outputs": [
    {
     "name": "stdout",
     "output_type": "stream",
     "text": [
      "Epoch 1/50\n",
      "1/1 [==============================] - 2s 2s/step - loss: 0.1157 - accuracy: 0.9458 - val_loss: 0.7742 - val_accuracy: 0.7833\n",
      "Epoch 2/50\n",
      "1/1 [==============================] - 0s 49ms/step - loss: 1.0244 - accuracy: 0.7750 - val_loss: 0.1379 - val_accuracy: 0.9667\n",
      "Epoch 3/50\n",
      "1/1 [==============================] - 0s 45ms/step - loss: 0.1720 - accuracy: 0.9042 - val_loss: 0.4275 - val_accuracy: 0.8167\n",
      "Epoch 4/50\n",
      "1/1 [==============================] - 0s 56ms/step - loss: 0.3882 - accuracy: 0.8625 - val_loss: 0.6477 - val_accuracy: 0.8000\n",
      "Epoch 5/50\n",
      "1/1 [==============================] - 0s 57ms/step - loss: 0.6129 - accuracy: 0.8375 - val_loss: 0.4200 - val_accuracy: 0.8333\n",
      "Epoch 6/50\n",
      "1/1 [==============================] - 0s 62ms/step - loss: 0.4591 - accuracy: 0.8583 - val_loss: 0.1423 - val_accuracy: 0.9333\n",
      "Epoch 7/50\n",
      "1/1 [==============================] - 0s 46ms/step - loss: 0.2385 - accuracy: 0.9167 - val_loss: 0.0735 - val_accuracy: 0.9500\n",
      "Epoch 8/50\n",
      "1/1 [==============================] - 0s 49ms/step - loss: 0.1602 - accuracy: 0.9250 - val_loss: 0.1057 - val_accuracy: 0.9667\n",
      "Epoch 9/50\n",
      "1/1 [==============================] - 0s 47ms/step - loss: 0.2339 - accuracy: 0.9167 - val_loss: 0.1579 - val_accuracy: 0.9500\n",
      "Epoch 10/50\n",
      "1/1 [==============================] - 0s 51ms/step - loss: 0.3419 - accuracy: 0.8833 - val_loss: 0.1672 - val_accuracy: 0.9500\n",
      "Epoch 11/50\n",
      "1/1 [==============================] - 0s 55ms/step - loss: 0.3632 - accuracy: 0.8833 - val_loss: 0.1311 - val_accuracy: 0.9667\n",
      "Epoch 12/50\n",
      "1/1 [==============================] - 0s 49ms/step - loss: 0.2944 - accuracy: 0.9042 - val_loss: 0.0915 - val_accuracy: 0.9667\n",
      "Epoch 13/50\n",
      "1/1 [==============================] - 0s 53ms/step - loss: 0.2094 - accuracy: 0.9208 - val_loss: 0.0775 - val_accuracy: 0.9500\n",
      "Epoch 14/50\n",
      "1/1 [==============================] - 0s 49ms/step - loss: 0.1690 - accuracy: 0.9250 - val_loss: 0.0930 - val_accuracy: 0.9500\n",
      "Epoch 15/50\n",
      "1/1 [==============================] - 0s 49ms/step - loss: 0.1808 - accuracy: 0.9208 - val_loss: 0.1384 - val_accuracy: 0.9167\n",
      "Epoch 16/50\n",
      "1/1 [==============================] - 0s 47ms/step - loss: 0.2212 - accuracy: 0.9250 - val_loss: 0.1795 - val_accuracy: 0.9167\n",
      "Epoch 17/50\n",
      "1/1 [==============================] - 0s 55ms/step - loss: 0.2452 - accuracy: 0.9042 - val_loss: 0.1758 - val_accuracy: 0.9167\n",
      "Epoch 18/50\n",
      "1/1 [==============================] - 0s 49ms/step - loss: 0.2249 - accuracy: 0.9083 - val_loss: 0.1377 - val_accuracy: 0.9167\n",
      "Epoch 19/50\n",
      "1/1 [==============================] - 0s 43ms/step - loss: 0.1749 - accuracy: 0.9333 - val_loss: 0.1079 - val_accuracy: 0.9667\n",
      "Epoch 20/50\n",
      "1/1 [==============================] - 0s 49ms/step - loss: 0.1364 - accuracy: 0.9333 - val_loss: 0.1073 - val_accuracy: 0.9667\n",
      "Epoch 21/50\n",
      "1/1 [==============================] - 0s 53ms/step - loss: 0.1397 - accuracy: 0.9250 - val_loss: 0.1229 - val_accuracy: 0.9833\n",
      "Epoch 22/50\n",
      "1/1 [==============================] - 0s 52ms/step - loss: 0.1700 - accuracy: 0.9083 - val_loss: 0.1319 - val_accuracy: 0.9500\n",
      "Epoch 23/50\n",
      "1/1 [==============================] - 0s 53ms/step - loss: 0.1863 - accuracy: 0.9000 - val_loss: 0.1233 - val_accuracy: 0.9667\n",
      "Epoch 24/50\n",
      "1/1 [==============================] - 0s 48ms/step - loss: 0.1700 - accuracy: 0.9042 - val_loss: 0.1080 - val_accuracy: 0.9833\n",
      "Epoch 25/50\n",
      "1/1 [==============================] - 0s 59ms/step - loss: 0.1394 - accuracy: 0.9292 - val_loss: 0.1044 - val_accuracy: 0.9667\n",
      "Epoch 26/50\n",
      "1/1 [==============================] - 0s 55ms/step - loss: 0.1264 - accuracy: 0.9375 - val_loss: 0.1193 - val_accuracy: 0.9500\n",
      "Epoch 27/50\n",
      "1/1 [==============================] - 0s 55ms/step - loss: 0.1398 - accuracy: 0.9333 - val_loss: 0.1357 - val_accuracy: 0.9333\n",
      "Epoch 28/50\n",
      "1/1 [==============================] - 0s 51ms/step - loss: 0.1579 - accuracy: 0.9167 - val_loss: 0.1317 - val_accuracy: 0.9167\n",
      "Epoch 29/50\n",
      "1/1 [==============================] - 0s 48ms/step - loss: 0.1580 - accuracy: 0.9208 - val_loss: 0.1103 - val_accuracy: 0.9500\n",
      "Epoch 30/50\n",
      "1/1 [==============================] - 0s 52ms/step - loss: 0.1415 - accuracy: 0.9292 - val_loss: 0.0931 - val_accuracy: 0.9667\n",
      "Epoch 31/50\n",
      "1/1 [==============================] - 0s 54ms/step - loss: 0.1274 - accuracy: 0.9292 - val_loss: 0.0908 - val_accuracy: 0.9667\n",
      "Epoch 32/50\n",
      "1/1 [==============================] - 0s 48ms/step - loss: 0.1283 - accuracy: 0.9375 - val_loss: 0.0968 - val_accuracy: 0.9667\n",
      "Epoch 33/50\n",
      "1/1 [==============================] - 0s 45ms/step - loss: 0.1375 - accuracy: 0.9375 - val_loss: 0.1006 - val_accuracy: 0.9667\n",
      "Epoch 34/50\n",
      "1/1 [==============================] - 0s 48ms/step - loss: 0.1407 - accuracy: 0.9333 - val_loss: 0.0990 - val_accuracy: 0.9667\n",
      "Epoch 35/50\n",
      "1/1 [==============================] - 0s 46ms/step - loss: 0.1332 - accuracy: 0.9333 - val_loss: 0.0970 - val_accuracy: 0.9833\n",
      "Epoch 36/50\n",
      "1/1 [==============================] - 0s 49ms/step - loss: 0.1234 - accuracy: 0.9375 - val_loss: 0.1013 - val_accuracy: 0.9667\n",
      "Epoch 37/50\n",
      "1/1 [==============================] - 0s 45ms/step - loss: 0.1222 - accuracy: 0.9375 - val_loss: 0.1114 - val_accuracy: 0.9667\n",
      "Epoch 38/50\n",
      "1/1 [==============================] - 0s 47ms/step - loss: 0.1287 - accuracy: 0.9375 - val_loss: 0.1174 - val_accuracy: 0.9500\n",
      "Epoch 39/50\n",
      "1/1 [==============================] - 0s 50ms/step - loss: 0.1332 - accuracy: 0.9375 - val_loss: 0.1128 - val_accuracy: 0.9500\n",
      "Epoch 40/50\n",
      "1/1 [==============================] - 0s 47ms/step - loss: 0.1298 - accuracy: 0.9375 - val_loss: 0.1036 - val_accuracy: 0.9667\n",
      "Epoch 41/50\n",
      "1/1 [==============================] - 0s 49ms/step - loss: 0.1232 - accuracy: 0.9417 - val_loss: 0.0983 - val_accuracy: 0.9667\n",
      "Epoch 42/50\n",
      "1/1 [==============================] - 0s 51ms/step - loss: 0.1208 - accuracy: 0.9417 - val_loss: 0.0978 - val_accuracy: 0.9833\n",
      "Epoch 43/50\n",
      "1/1 [==============================] - 0s 45ms/step - loss: 0.1236 - accuracy: 0.9333 - val_loss: 0.0983 - val_accuracy: 0.9667\n",
      "Epoch 44/50\n",
      "1/1 [==============================] - 0s 47ms/step - loss: 0.1262 - accuracy: 0.9375 - val_loss: 0.0971 - val_accuracy: 0.9667\n",
      "Epoch 45/50\n",
      "1/1 [==============================] - 0s 51ms/step - loss: 0.1244 - accuracy: 0.9292 - val_loss: 0.0956 - val_accuracy: 0.9833\n",
      "Epoch 46/50\n",
      "1/1 [==============================] - 0s 45ms/step - loss: 0.1204 - accuracy: 0.9333 - val_loss: 0.0969 - val_accuracy: 0.9667\n",
      "Epoch 47/50\n",
      "1/1 [==============================] - 0s 51ms/step - loss: 0.1190 - accuracy: 0.9333 - val_loss: 0.1017 - val_accuracy: 0.9667\n",
      "Epoch 48/50\n",
      "1/1 [==============================] - 0s 41ms/step - loss: 0.1208 - accuracy: 0.9333 - val_loss: 0.1067 - val_accuracy: 0.9500\n",
      "Epoch 49/50\n",
      "1/1 [==============================] - 0s 50ms/step - loss: 0.1223 - accuracy: 0.9375 - val_loss: 0.1087 - val_accuracy: 0.9667\n",
      "Epoch 50/50\n",
      "1/1 [==============================] - 0s 50ms/step - loss: 0.1208 - accuracy: 0.9375 - val_loss: 0.1083 - val_accuracy: 0.9667\n"
     ]
    }
   ],
   "source": [
    "raisin_net = mlp.fit(X_train, y_train, epochs=50, \n",
    "          batch_size=1000, \n",
    "          validation_split=0.2)"
   ]
  },
  {
   "cell_type": "markdown",
   "id": "dc21eb99-504a-4ec7-814b-7940cb430f54",
   "metadata": {},
   "source": [
    "# Accuracies in tabular form for SVM ,logistic regression ,KNN,Decision tree"
   ]
  },
  {
   "cell_type": "code",
   "execution_count": 81,
   "id": "c5f166cb-2ef7-4bc4-a41d-4718f00b182d",
   "metadata": {},
   "outputs": [
    {
     "data": {
      "text/html": [
       "<div>\n",
       "<style scoped>\n",
       "    .dataframe tbody tr th:only-of-type {\n",
       "        vertical-align: middle;\n",
       "    }\n",
       "\n",
       "    .dataframe tbody tr th {\n",
       "        vertical-align: top;\n",
       "    }\n",
       "\n",
       "    .dataframe thead th {\n",
       "        text-align: right;\n",
       "    }\n",
       "</style>\n",
       "<table border=\"1\" class=\"dataframe\">\n",
       "  <thead>\n",
       "    <tr style=\"text-align: right;\">\n",
       "      <th></th>\n",
       "      <th>Models</th>\n",
       "      <th>Accuracy_Score</th>\n",
       "    </tr>\n",
       "  </thead>\n",
       "  <tbody>\n",
       "    <tr>\n",
       "      <th>3</th>\n",
       "      <td>SVM</td>\n",
       "      <td>0.896000</td>\n",
       "    </tr>\n",
       "    <tr>\n",
       "      <th>1</th>\n",
       "      <td>K Nearest Neighbours</td>\n",
       "      <td>0.888000</td>\n",
       "    </tr>\n",
       "    <tr>\n",
       "      <th>2</th>\n",
       "      <td>Decision Tree</td>\n",
       "      <td>0.875000</td>\n",
       "    </tr>\n",
       "    <tr>\n",
       "      <th>0</th>\n",
       "      <td>Logistic Regression</td>\n",
       "      <td>0.851852</td>\n",
       "    </tr>\n",
       "  </tbody>\n",
       "</table>\n",
       "</div>"
      ],
      "text/plain": [
       "                 Models  Accuracy_Score\n",
       "3                   SVM        0.896000\n",
       "1  K Nearest Neighbours        0.888000\n",
       "2         Decision Tree        0.875000\n",
       "0   Logistic Regression        0.851852"
      ]
     },
     "execution_count": 81,
     "metadata": {},
     "output_type": "execute_result"
    }
   ],
   "source": [
    "All_model_accuracy = pd.DataFrame({\n",
    "    'Models': ['Logistic Regression', 'K Nearest Neighbours', 'Decision Tree','SVM'],\n",
    "    'Accuracy_Score': [binary_reg_accuracy,knn_accuracy,binary_classification_dt,svm_accuracy]})\n",
    "All_model_accuracy.sort_values(by='Accuracy_Score', ascending=False)"
   ]
  },
  {
   "cell_type": "markdown",
   "id": "4cbf5f70-b9a4-43a2-a80d-bd4015dae8a8",
   "metadata": {},
   "source": [
    "# Accuracy for the  MLP in Neural network "
   ]
  },
  {
   "cell_type": "code",
   "execution_count": null,
   "id": "8d08a6ef-683a-4779-93d9-ee2919c927b2",
   "metadata": {},
   "outputs": [
    {
     "data": {
      "text/html": [
       "<div>\n",
       "<style scoped>\n",
       "    .dataframe tbody tr th:only-of-type {\n",
       "        vertical-align: middle;\n",
       "    }\n",
       "\n",
       "    .dataframe tbody tr th {\n",
       "        vertical-align: top;\n",
       "    }\n",
       "\n",
       "    .dataframe thead th {\n",
       "        text-align: right;\n",
       "    }\n",
       "</style>\n",
       "<table border=\"1\" class=\"dataframe\">\n",
       "  <thead>\n",
       "    <tr style=\"text-align: right;\">\n",
       "      <th></th>\n",
       "      <th>Models</th>\n",
       "      <th>Accuracy_Score</th>\n",
       "    </tr>\n",
       "  </thead>\n",
       "  <tbody>\n",
       "    <tr>\n",
       "      <th>0</th>\n",
       "      <td>Neural networks</td>\n",
       "      <td>&lt;keras.callbacks.History object at 0x000002161...</td>\n",
       "    </tr>\n",
       "  </tbody>\n",
       "</table>\n",
       "</div>"
      ],
      "text/plain": [
       "            Models                                     Accuracy_Score\n",
       "0  Neural networks  <keras.callbacks.History object at 0x000002161..."
      ]
     },
     "execution_count": 30,
     "metadata": {},
     "output_type": "execute_result"
    }
   ],
   "source": [
    "All_model_accuracy = pd.DataFrame({\n",
    "    'Models': ['Neural networks'],\n",
    "    'Accuracy_Score': [raisin_net]})\n",
    "All_model_accuracy.sort_values(by='Accuracy_Score', ascending=False)"
   ]
  },
  {
   "cell_type": "markdown",
   "id": "103001af-386f-4e6e-87f7-03d2fcca4626",
   "metadata": {},
   "source": [
    "# output  data columns which belongs to Kecimen Raisin type "
   ]
  },
  {
   "cell_type": "code",
   "execution_count": 85,
   "id": "eb5be255-4980-4a43-afd6-53e34fd30691",
   "metadata": {},
   "outputs": [
    {
     "data": {
      "text/plain": [
       "Area\n",
       "25387     1\n",
       "26908     1\n",
       "28216     1\n",
       "31237     1\n",
       "31275     1\n",
       "         ..\n",
       "110616    1\n",
       "111450    1\n",
       "114648    1\n",
       "136340    1\n",
       "180898    1\n",
       "Length: 450, dtype: int64"
      ]
     },
     "execution_count": 85,
     "metadata": {},
     "output_type": "execute_result"
    }
   ],
   "source": [
    "data[data['Class']=='Kecimen'].groupby('Area').size()"
   ]
  },
  {
   "cell_type": "markdown",
   "id": "48fa0d54-73e6-4f9e-b089-db021f352d7e",
   "metadata": {},
   "source": [
    "# output  data columns which belongs to Besni Raisin type "
   ]
  },
  {
   "cell_type": "code",
   "execution_count": 86,
   "id": "83c90fc7-5f54-41ce-82c7-8743ef4c9532",
   "metadata": {},
   "outputs": [
    {
     "data": {
      "text/plain": [
       "Area\n",
       "40702     1\n",
       "45051     1\n",
       "47253     1\n",
       "47609     1\n",
       "48007     1\n",
       "         ..\n",
       "218459    1\n",
       "222915    1\n",
       "223075    1\n",
       "225043    1\n",
       "235047    1\n",
       "Length: 450, dtype: int64"
      ]
     },
     "execution_count": 86,
     "metadata": {},
     "output_type": "execute_result"
    }
   ],
   "source": [
    "data[data['Class']=='Besni'].groupby('Area').size()"
   ]
  },
  {
   "cell_type": "markdown",
   "id": "e59e0cee-5ce1-4ea9-a9c5-5d0fcd8a9181",
   "metadata": {},
   "source": [
    "# Plotting graph for some models"
   ]
  },
  {
   "cell_type": "code",
   "execution_count": 82,
   "id": "63398144-d1fe-4607-a8e7-2ebcf63750be",
   "metadata": {},
   "outputs": [
    {
     "data": {
      "text/plain": [
       "<AxesSubplot:xlabel='Models', ylabel='Accuracy_Score'>"
      ]
     },
     "execution_count": 82,
     "metadata": {},
     "output_type": "execute_result"
    },
    {
     "data": {
      "image/png": "[encoded data removed]",
      "text/plain": [
       "<Figure size 720x360 with 1 Axes>"
      ]
     },
     "metadata": {},
     "output_type": "display_data"
    }
   ],
   "source": [
    "sns.set(rc={'figure.figsize':(10,5)})\n",
    "All_Models = All_model_accuracy['Models']\n",
    "Accuracy_Score = All_model_accuracy['Accuracy_Score']\n",
    "\n",
    "sns.barplot(x=All_Models, y=Accuracy_Score)"
   ]
  }
 ],
 "metadata": {
  "kernelspec": {
   "display_name": "Python 3 (ipykernel)",
   "language": "python",
   "name": "python3"
  },
  "language_info": {
   "codemirror_mode": {
    "name": "ipython",
    "version": 3
   },
   "file_extension": ".py",
   "mimetype": "text/x-python",
   "name": "python",
   "nbconvert_exporter": "python",
   "pygments_lexer": "ipython3",
   "version": "3.9.12"
  }
 },
 "nbformat": 4,
 "nbformat_minor": 5
}
